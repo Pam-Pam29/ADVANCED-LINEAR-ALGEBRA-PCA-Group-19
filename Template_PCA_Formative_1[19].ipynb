{
  "cells": [
    {
      "cell_type": "markdown",
      "metadata": {
        "id": "view-in-github",
        "colab_type": "text"
      },
      "source": [
        "<a href=\"https://colab.research.google.com/github/Pam-Pam29/ADVANCED-LINEAR-ALGEBRA-PCA-Group-19/blob/main/Template_PCA_Formative_1%5B19%5D.ipynb\" target=\"_parent\"><img src=\"https://colab.research.google.com/assets/colab-badge.svg\" alt=\"Open In Colab\"/></a>"
      ]
    },
    {
      "cell_type": "markdown",
      "metadata": {
        "id": "JqkivgEHr_KW"
      },
      "source": [
        "# Formative Assignment: Advanced Linear Algebra (PCA)\n",
        "This notebook will guide you through the implementation of Principal Component Analysis (PCA). Fill in the missing code and provide the required answers in the appropriate sections. You will work with a dataset that is Africanized .\n",
        "\n",
        "Make sure to display outputs for each code cell when submitting."
      ]
    },
    {
      "cell_type": "code",
      "source": [
        "\n",
        "!pip install kaggle\n",
        "\n",
        "\n",
        "def setup_kaggle():\n",
        "    from google.colab import files\n",
        "    print(\"Please upload your kaggle.json file:\")\n",
        "    uploaded = files.upload()\n",
        "\n",
        "    !mkdir -p ~/.kaggle\n",
        "    !mv kaggle.json ~/.kaggle/\n",
        "    !chmod 600 ~/.kaggle/kaggle.json\n",
        "    print(\"Kaggle setup complete!\")\n",
        "\n",
        "# Function to download the African Cigarette Prices dataset\n",
        "def download_dataset():\n",
        "    !kaggle datasets download -d \"waalbannyantudre/african-cigarette-prices\"\n",
        "    !unzip \"african-cigarette-prices.zip\"\n",
        "    !ls -la\n",
        "    print(\"Dataset downloaded and extracted!\")\n",
        "\n",
        "# Run setup (only needed once per session)\n",
        "setup_kaggle()\n",
        "\n",
        "# Download the dataset\n",
        "download_dataset()"
      ],
      "metadata": {
        "id": "wBLu4hMKAdG-",
        "outputId": "3bb927b6-9411-4019-dc75-3d6fe8f45931",
        "colab": {
          "base_uri": "https://localhost:8080/",
          "height": 628
        }
      },
      "execution_count": 1,
      "outputs": [
        {
          "output_type": "stream",
          "name": "stdout",
          "text": [
            "Requirement already satisfied: kaggle in /usr/local/lib/python3.11/dist-packages (1.7.4.5)\n",
            "Requirement already satisfied: bleach in /usr/local/lib/python3.11/dist-packages (from kaggle) (6.2.0)\n",
            "Requirement already satisfied: certifi>=14.05.14 in /usr/local/lib/python3.11/dist-packages (from kaggle) (2025.4.26)\n",
            "Requirement already satisfied: charset-normalizer in /usr/local/lib/python3.11/dist-packages (from kaggle) (3.4.2)\n",
            "Requirement already satisfied: idna in /usr/local/lib/python3.11/dist-packages (from kaggle) (3.10)\n",
            "Requirement already satisfied: protobuf in /usr/local/lib/python3.11/dist-packages (from kaggle) (5.29.5)\n",
            "Requirement already satisfied: python-dateutil>=2.5.3 in /usr/local/lib/python3.11/dist-packages (from kaggle) (2.9.0.post0)\n",
            "Requirement already satisfied: python-slugify in /usr/local/lib/python3.11/dist-packages (from kaggle) (8.0.4)\n",
            "Requirement already satisfied: requests in /usr/local/lib/python3.11/dist-packages (from kaggle) (2.32.3)\n",
            "Requirement already satisfied: setuptools>=21.0.0 in /usr/local/lib/python3.11/dist-packages (from kaggle) (75.2.0)\n",
            "Requirement already satisfied: six>=1.10 in /usr/local/lib/python3.11/dist-packages (from kaggle) (1.17.0)\n",
            "Requirement already satisfied: text-unidecode in /usr/local/lib/python3.11/dist-packages (from kaggle) (1.3)\n",
            "Requirement already satisfied: tqdm in /usr/local/lib/python3.11/dist-packages (from kaggle) (4.67.1)\n",
            "Requirement already satisfied: urllib3>=1.15.1 in /usr/local/lib/python3.11/dist-packages (from kaggle) (2.4.0)\n",
            "Requirement already satisfied: webencodings in /usr/local/lib/python3.11/dist-packages (from kaggle) (0.5.1)\n",
            "Please upload your kaggle.json file:\n"
          ]
        },
        {
          "output_type": "display_data",
          "data": {
            "text/plain": [
              "<IPython.core.display.HTML object>"
            ],
            "text/html": [
              "\n",
              "     <input type=\"file\" id=\"files-15818191-fe45-4bd5-962d-9fe87c8dd29d\" name=\"files[]\" multiple disabled\n",
              "        style=\"border:none\" />\n",
              "     <output id=\"result-15818191-fe45-4bd5-962d-9fe87c8dd29d\">\n",
              "      Upload widget is only available when the cell has been executed in the\n",
              "      current browser session. Please rerun this cell to enable.\n",
              "      </output>\n",
              "      <script>// Copyright 2017 Google LLC\n",
              "//\n",
              "// Licensed under the Apache License, Version 2.0 (the \"License\");\n",
              "// you may not use this file except in compliance with the License.\n",
              "// You may obtain a copy of the License at\n",
              "//\n",
              "//      http://www.apache.org/licenses/LICENSE-2.0\n",
              "//\n",
              "// Unless required by applicable law or agreed to in writing, software\n",
              "// distributed under the License is distributed on an \"AS IS\" BASIS,\n",
              "// WITHOUT WARRANTIES OR CONDITIONS OF ANY KIND, either express or implied.\n",
              "// See the License for the specific language governing permissions and\n",
              "// limitations under the License.\n",
              "\n",
              "/**\n",
              " * @fileoverview Helpers for google.colab Python module.\n",
              " */\n",
              "(function(scope) {\n",
              "function span(text, styleAttributes = {}) {\n",
              "  const element = document.createElement('span');\n",
              "  element.textContent = text;\n",
              "  for (const key of Object.keys(styleAttributes)) {\n",
              "    element.style[key] = styleAttributes[key];\n",
              "  }\n",
              "  return element;\n",
              "}\n",
              "\n",
              "// Max number of bytes which will be uploaded at a time.\n",
              "const MAX_PAYLOAD_SIZE = 100 * 1024;\n",
              "\n",
              "function _uploadFiles(inputId, outputId) {\n",
              "  const steps = uploadFilesStep(inputId, outputId);\n",
              "  const outputElement = document.getElementById(outputId);\n",
              "  // Cache steps on the outputElement to make it available for the next call\n",
              "  // to uploadFilesContinue from Python.\n",
              "  outputElement.steps = steps;\n",
              "\n",
              "  return _uploadFilesContinue(outputId);\n",
              "}\n",
              "\n",
              "// This is roughly an async generator (not supported in the browser yet),\n",
              "// where there are multiple asynchronous steps and the Python side is going\n",
              "// to poll for completion of each step.\n",
              "// This uses a Promise to block the python side on completion of each step,\n",
              "// then passes the result of the previous step as the input to the next step.\n",
              "function _uploadFilesContinue(outputId) {\n",
              "  const outputElement = document.getElementById(outputId);\n",
              "  const steps = outputElement.steps;\n",
              "\n",
              "  const next = steps.next(outputElement.lastPromiseValue);\n",
              "  return Promise.resolve(next.value.promise).then((value) => {\n",
              "    // Cache the last promise value to make it available to the next\n",
              "    // step of the generator.\n",
              "    outputElement.lastPromiseValue = value;\n",
              "    return next.value.response;\n",
              "  });\n",
              "}\n",
              "\n",
              "/**\n",
              " * Generator function which is called between each async step of the upload\n",
              " * process.\n",
              " * @param {string} inputId Element ID of the input file picker element.\n",
              " * @param {string} outputId Element ID of the output display.\n",
              " * @return {!Iterable<!Object>} Iterable of next steps.\n",
              " */\n",
              "function* uploadFilesStep(inputId, outputId) {\n",
              "  const inputElement = document.getElementById(inputId);\n",
              "  inputElement.disabled = false;\n",
              "\n",
              "  const outputElement = document.getElementById(outputId);\n",
              "  outputElement.innerHTML = '';\n",
              "\n",
              "  const pickedPromise = new Promise((resolve) => {\n",
              "    inputElement.addEventListener('change', (e) => {\n",
              "      resolve(e.target.files);\n",
              "    });\n",
              "  });\n",
              "\n",
              "  const cancel = document.createElement('button');\n",
              "  inputElement.parentElement.appendChild(cancel);\n",
              "  cancel.textContent = 'Cancel upload';\n",
              "  const cancelPromise = new Promise((resolve) => {\n",
              "    cancel.onclick = () => {\n",
              "      resolve(null);\n",
              "    };\n",
              "  });\n",
              "\n",
              "  // Wait for the user to pick the files.\n",
              "  const files = yield {\n",
              "    promise: Promise.race([pickedPromise, cancelPromise]),\n",
              "    response: {\n",
              "      action: 'starting',\n",
              "    }\n",
              "  };\n",
              "\n",
              "  cancel.remove();\n",
              "\n",
              "  // Disable the input element since further picks are not allowed.\n",
              "  inputElement.disabled = true;\n",
              "\n",
              "  if (!files) {\n",
              "    return {\n",
              "      response: {\n",
              "        action: 'complete',\n",
              "      }\n",
              "    };\n",
              "  }\n",
              "\n",
              "  for (const file of files) {\n",
              "    const li = document.createElement('li');\n",
              "    li.append(span(file.name, {fontWeight: 'bold'}));\n",
              "    li.append(span(\n",
              "        `(${file.type || 'n/a'}) - ${file.size} bytes, ` +\n",
              "        `last modified: ${\n",
              "            file.lastModifiedDate ? file.lastModifiedDate.toLocaleDateString() :\n",
              "                                    'n/a'} - `));\n",
              "    const percent = span('0% done');\n",
              "    li.appendChild(percent);\n",
              "\n",
              "    outputElement.appendChild(li);\n",
              "\n",
              "    const fileDataPromise = new Promise((resolve) => {\n",
              "      const reader = new FileReader();\n",
              "      reader.onload = (e) => {\n",
              "        resolve(e.target.result);\n",
              "      };\n",
              "      reader.readAsArrayBuffer(file);\n",
              "    });\n",
              "    // Wait for the data to be ready.\n",
              "    let fileData = yield {\n",
              "      promise: fileDataPromise,\n",
              "      response: {\n",
              "        action: 'continue',\n",
              "      }\n",
              "    };\n",
              "\n",
              "    // Use a chunked sending to avoid message size limits. See b/62115660.\n",
              "    let position = 0;\n",
              "    do {\n",
              "      const length = Math.min(fileData.byteLength - position, MAX_PAYLOAD_SIZE);\n",
              "      const chunk = new Uint8Array(fileData, position, length);\n",
              "      position += length;\n",
              "\n",
              "      const base64 = btoa(String.fromCharCode.apply(null, chunk));\n",
              "      yield {\n",
              "        response: {\n",
              "          action: 'append',\n",
              "          file: file.name,\n",
              "          data: base64,\n",
              "        },\n",
              "      };\n",
              "\n",
              "      let percentDone = fileData.byteLength === 0 ?\n",
              "          100 :\n",
              "          Math.round((position / fileData.byteLength) * 100);\n",
              "      percent.textContent = `${percentDone}% done`;\n",
              "\n",
              "    } while (position < fileData.byteLength);\n",
              "  }\n",
              "\n",
              "  // All done.\n",
              "  yield {\n",
              "    response: {\n",
              "      action: 'complete',\n",
              "    }\n",
              "  };\n",
              "}\n",
              "\n",
              "scope.google = scope.google || {};\n",
              "scope.google.colab = scope.google.colab || {};\n",
              "scope.google.colab._files = {\n",
              "  _uploadFiles,\n",
              "  _uploadFilesContinue,\n",
              "};\n",
              "})(self);\n",
              "</script> "
            ]
          },
          "metadata": {}
        },
        {
          "output_type": "stream",
          "name": "stdout",
          "text": [
            "Saving kaggle.json to kaggle.json\n",
            "Kaggle setup complete!\n",
            "Dataset URL: https://www.kaggle.com/datasets/waalbannyantudre/african-cigarette-prices\n",
            "License(s): Attribution 4.0 International (CC BY 4.0)\n",
            "Downloading african-cigarette-prices.zip to /content\n",
            "  0% 0.00/6.54M [00:00<?, ?B/s]\n",
            "100% 6.54M/6.54M [00:00<00:00, 779MB/s]\n",
            "Archive:  african-cigarette-prices.zip\n",
            "  inflating: acp-r1-r12-2016-2022-v1.6.csv  \n",
            "total 51560\n",
            "drwxr-xr-x 1 root root     4096 Jun  9 14:05 .\n",
            "drwxr-xr-x 1 root root     4096 Jun  9 14:04 ..\n",
            "-rw-r--r-- 1 root root 45921402 Feb 28  2024 acp-r1-r12-2016-2022-v1.6.csv\n",
            "-rw-r--r-- 1 root root  6854964 Feb 28  2024 african-cigarette-prices.zip\n",
            "drwxr-xr-x 4 root root     4096 Jun  5 13:38 .config\n",
            "drwxr-xr-x 1 root root     4096 Jun  5 13:38 sample_data\n",
            "Dataset downloaded and extracted!\n"
          ]
        }
      ]
    },
    {
      "cell_type": "markdown",
      "metadata": {
        "id": "xycIp758r_Kb"
      },
      "source": [
        "### Step 1: Load and Standardize the Data\n",
        "Before applying PCA, we must standardize the dataset. Standardization ensures that all features have a mean of 0 and a standard deviation of 1, which is essential for PCA.\n",
        "Fill in the code to standardize the dataset.\n",
        "\n",
        "STRICTLY - Write code that implements standardization based on the image below\n",
        "\n",
        "<img src='data:image/jpeg;base64,/9j/4AAQSkZJRgABAQAAAQABAAD/2wCEAAkGBw8NEQ4NDxIPDw8RDhAQDxANEA8SDxAQFhIWGBUVGBUkKCgsGBslGxUYIT0hJSs3OjouFyIzOTMtQygtLysBCgoKDg0OGhAQGy8mHSUtKy03LS8tLS0tKy0tMDU3LS0tLS0tLS0tLS02LTItLS0tLS0tLS01LS0tLS0tKy8tLf/AABEIAJ4BPwMBIgACEQEDEQH/xAAcAAEAAgIDAQAAAAAAAAAAAAAABAUGBwECAwj/xABHEAABBAECAQcGCQkHBQAAAAABAAIDBBEFEiEGEyIxQVFhBxQVcYGTMjRCUnShs9HSIzNjgpGSlbHUFiQlU1Ryc0RiZKLB/8QAFwEBAQEBAAAAAAAAAAAAAAAAAAECA//EACERAQEAAgEEAwEBAAAAAAAAAAABAhEhBBITFAMxUUFh/9oADAMBAAIRAxEAPwDeKIiAiIgIiICIiAiIgIiIOHuDQSSAAMkk4AHequDlLp8nOlluo8RY50tniIjycDcc8OJx61hvlxqXpqUYqh7oWyOdcZFkvMe3okj5TAckj1HsKxbkfoei3aeoagI52c1TMdmo+V3NM2MZJva8Yc4OfCHcT15GF3x+KXDutYuVl029Bygoyv5qO1Vkk2udsjnic7a0Zc7APUB2rrV5RUZ3mGK1Wlkax0jmRTRvcGNxlxAPADI/atE8nakNLQ7+qlv97nfJQrv3OGIpAxsmG5xnhIc4z0V4ci2eYTas/qdDoMx9UsrK5A9jn49i6Xp5zq/TPk+m+Byr04wvtC3WNdjwx8rZWmNrzjDSe/iOC7y8ptPZIIH26rZiQBE6eMSbj1DbnIPgvmzkw98zq+lYPN2NSpSvB+Y0Pa7I7i14P6qkalHBZr6vqkvGSXU2x1ME9b3ySy8O0c3t+pa9WS6tSfLbH0pqOr1amDZngrgglvPyxx5A68ZIyvGXlDRZFHZfZrMhkBMcr5o2skA6y0k8fYvn3lzPLalEcxc46dpNSKTcf+odzQk49p3zYP8Axld+U92FreTsU7HTQwaVXmlia7aZBKS4s3fJyGDj3FZnTbk5PL9t/Rco6D4jabaqmBrtrphPHzbXfNLs4B8F60NbqWWPmgsQTRs/OPilY5jO3pEHh7V8/wCt6LLV06tHtbDJqupNnhrxvMjYoGxlsLdxJ3HMzTnPVheVzZRl5RR08io2s2kRuc4GR80TDxPXxbYx4ZT1pZxV8l/H0TBqdeRnOsmhfHkgPZIwsJBwRuzjgeC6u1eqGvkM8AYwgSPMse1hPUHHPDPitB8sdFpwafoweZn6hJRibDVj2bGiSR0r5HDBJJdLtAB4keBXtr3J52m09L0UnFnULjbNsNxtjADY2M9Td2c97CVJ0+N1yeS/jd8HKShIx8rLVV0bHhj5BNHzbXkZDS7OMnuSPlHQcXNbbqOLW73htiI7W5AyePAZcB7VpXkdUry8n9bkmZvYyy6SEFz24mbXj5o8CM9J44FVVvS46+hVZmMPnepWzG47ndKCJ7yxob1DpsYeA7VfXx3rf90eSvoS3rVSCEW5Z4WV3BpbM6RvNuDvg7XfKz4KO/lRp7YI7brVZteR2yOZ0rBG54zloPfwPDwWo4NH9P3Z60kr4dL0iBtdnN7Rgxt2EjORkmN5LsfBa0duVg1iR40yrBglkuoXLMfeWRwQx7sdgyZP3SmPTS8b5L8ln8fTzNYrOmbVbNGZ3Rc82JrgXmLsfj5vipy055FZH3rlq9IDmDT6dJhPHgGgO4+PM5/WW41w+XDsy7W8cu6bERFzaEREBERAREQEREBERAREQEREBERAREQEREGEeUDTNbmlrTaTOyJsbJGyRucG7nOI6RyHB4wAMEcOJ454UumeT23S0nUKkb4pb17YJOkWwsZkAtDsceiXnOOs9S2ii6T5cpNRntm9tRXvJtflpaRpgdXEVeaaa67nH8XySk/k+j0iGOeOOOJUGXyW34xqsdUVo4rTmRVmunkLmV22GyZeSD1tY0YyTxW60W51GaeONQs8mVyC6bsBgLIaTY4GF7t8lhun8w09WGjnADklccifJZYidA/UnRGGtI6aGpC7cHzHb05H46ug3gM/BHHrB2+il6jPWjxxpCz5J788dyxN5u7UJ7bZIyJ5Oaijc57pSTt4klwGMHAHBWEPkutyvsOsvr7BpMdKqGue4iaOCJjXnhwbvY89/S6lt9FfYzPHi0zf8nmsn0RCySs/zCN2yd7nBsbzNvADMEu2BrMHHYO5S9e8l04oV9NpPY977PnF6zYcWGVwYWtwOPAbzgeHE5JK22insZ8HZGmb/k21mW/LfisVoiJneave97nxwty2IbdhDcMwMf8A3ivWfybalesCbU5IbLIab4WFs0ofPKGvdGT0Rtbzj+/qaOC3CivsZnjjUlXyfajDotjSga5sWbzJnkSu5tsQEXAu29eYhwA7VKu8gbkjuT0OYfNtOZE6yd7gXy84x0mxuOI/J9Zx8JbRRTz5HZGmW+TfWGz3q0VmODTrkznzvaQZJIi5xDdmMh2HEYyAfHqVtqvk5lktw8yI2UKulzVYGOkPOPmkimaXEY7XSgkk9bVtBEvz5nZGFeSzkjNo1eaOw6J00s/OHmS5zWsEbWhuSBk5Dj7VmqIueWVyu61JqagiIsqIiICIiAiIgIiICIiAiIgKqv8AKCvXkMEhkEnNukYBFK7ndpYC2PA6b8yM6LePS8Di1WPahpFqaxBbEkAdXmk5qMseWcxJG5ri45yZMlh4YHQx8okWa/qVfNlBaHHoggHp9EjPYR2FBK08A5p9RC87dOKdvNzRxysJBLJWNezI6jgqLW0GlC5skdWrHI05a+OCJr2nGODgOHAqHKRYvRxPghcTvnc9sYDSclrC92T2DDTxPbgdqafejsxtmiJdG4uDSQRna4tJ9WWniqHVK9ifUGcy7m216Dxzj2OLd9mTG5nY57BX6j/mg+BtOTWnvp1a1V5YXQwsizHu2nY0DPHrJxn2rVk0LNERZUREQEREBERARFR0hc9IW+ckjdU82rmGIB2+N+6QF2e3OHZ9TfFWQXiIigIiICIiAiIgIiICIiAiIgIiICIiAiIgLHOWVprWwRA4nfI4wl75GV2YYQ6SYgjcxodnZnpO2jxGRorLpKq+TkDI6sLY3zStLNwksF/PSF3Eudni3JOcdQHAAYwqT0Zc+Za/isn4VlwC5TZp5VmkMYHZ3BjQcu3HOOOXdvrVZYrakXvMdmkyMuOxr6Ez3tb2AuEw3HxwPUrhElNKLzXVf9XQ/h0/9QufNdV/1dD+HT/1Cma9qJqV5bDW845oAjZnaHyOcGsaT2AucBlVWkWbjrs1aeZj2w168rxDAGRmSYzAx5JJG0Rtd19TuK1zraJHmmq/6uh/Dp/6hWOmR2WtIsyQzP3Za6vA+BobgcC0vfk5zxz29SmIs7XQiIooiIgIiICIiAoEPxqf6NW+0sKeoEPxqf6NW+0sKonoiKKIiICIiAiIgIiICIiAiIgIiICIiAiIgIiICIiAiIg87EDJWujka17HAhzXgFrgewhedSlFAHCNjWbnbnkDi92ANzj1uOABk9ykIgIiICIiAiIgIiICIiAoEPxqf6NW+0sKeq+Fw87nGRnzWtw7fzlhEWCIiKIiICIiAiIgIiICIiAiIgIiICIiAiIgIiICIiAiIgIiICIiAiIgIiICIiAiIgoeV2ryVY44awDrtqQQVGuGWh5GXSuHzWNBcfUB2rHv7CxNfLzEkjNQjggmZqDnOM77JfNuMnzmO2gFnVgeCstBHn9+3qR4w1y6hS7jtINmUet42Z7o1fQ/Gp/o1b7SwjVvbxEbktrPn1dsr281Ox7obUPbFYjOHt9WeIPcQrhYnY/w/VI5Rwr6mBDJ3NvRNJjd+vGC31xtWQnUI+dFfpGQ9zXFo4ZwXdQOCDjxHehZ+JaKPHcY5xYCdwznouA4dfHCU7XO850S0skdGQSDnABz9aJpIRERBERAREQEREBERAREQEREBERAREQEREBERAREQEREBERAREQEREBUXLPVX1KrzDxszObWqN77Ep2sPqGS4+DSr1YhRPpS+bfXT090kNY9k1w9GaUd4YOgD3lyNYzlf6BpbKNaCozi2KNrMnrc75Tj4k5PtXMPxqf6NW+0sKeoEXxqb6NX+0nSM3lF5XaSb1SaFh2zDbLWf8yxE4Pid+80ewlccmbsV6CG+1gbJLHiTh0mSDDZGHuIczaf9g7grpYjpf8Ah2o2KZ4V7+65Vz8FtkYFmIevoyAeL0an1plTYGAlwa0OPWQ0An2riCuyPcWjG9xe7iTlx7V6ojIiIgIiICIiAiIgIiICIiAiIgIiICIiAiIgIiICIiAiIgIiICIiAihalq9Wo3fZnhgb3zSMZ/PrVBJywda6Gl1pbjj1WJWugos8TK4Zf6mA+sIslqRyy1ORjIqFU/326TFERxMEWPytg9wa3q/7i1W+jabFTghqwjbFDG1jB24Hae8k8faq7k5yfdWdLbsyec3pwBNNt2sYwfBhib8iMd3aeJ4q+RbeNQUCL41N9Gr/AGk6nqBF8am+jV/tJ0ZT1T8qNE8/hDGv5mxE9s1WcDJhsN+C7xHWCO0EhXCIKPktr3nrJI5W8zdruEduuTxjkxwc3vjcOId3eoq8VByi5PGw9lyrJ5tfiaWxzhu5kjM5MMzflxk+0HiFGocrmse2rqUfmFo8GmQ5qWD3wz9Rz812HeCNWb5jKEXAOVyjIiIgIiICIiAiIgIiICIiAiIgIiICi6lfjqxSWJdwjjaXPLGPkdjwa0En9ilIgqNN5R17UMViPndksbZGZgmztcMjOAR9ak+lof0vuJ/wqY1gHAcB2AcAuyvCcoPpaH9L7if8Kelof0vuJ/wqcihyg+lof0vuJ/wqDq/KaOrGJGwXbRLg3m6taR0nEE5wcDHDv7QrxEWMLby1tSfm9Kugdhsuji/aBuIXH9oNWf8ABqU4PGaa7Kf2NiH81mqKtbn4wnnNVl/OXoa47qWmWHPH60m4f+q49AwS/Gr2r2e8F9mCM/qRtYs2RE7qxbTtF0eq7fFVYJP8x9WaSX99zSfrV2NUh/Se4n/Cp64US21C9Kw/pPcT/hT0rD3ye4n/AAqaiIhelYe+T3E/4VDj1GPziV/5Xaa8LQeYnwXB8pI+D3OH7VOpalFOdsZJPNsl4gjoPc9rT7djlw3UmF2zbPndtya9gNzn523GPHKbjXbXHpWHvk9zP+FPSsPfJ7mb8KianrLoZHMa0ObGyu+XJOS2aYxjb4ja48evgPFXCm4XGybqF6Wh75Pcz/hXhcs1LDHRTM52Nww5kteVzHDxBarTC5VTlg40CvB8Qt6jQHZFEJZaw9UMjXBo8G4XYz6tH8C7VnH/AJOmWmOPtY7H1LNkRe6sKHKDV2ddajN4xTXYvqdEf5rsOVeoj4Wmg/8AHbJH1xhZmiuzf+MLPLK4OvS7R/2zRH7ld6Xr7ZomyTRT1pCXAwyMe9zcEgHLQQc9ftVxhcoWoPpaHvk9zN9yeloe+T3M33KcijPKD6Wh75PczfcnpaHvk9zN9ynIhyg+loe9/uZvuT0tD3v91N9ynIgqNL5SVbc9mpE5/PVy3nWuikaMOaHAhxGDwd1dfgrddWsAyQAMnJwOs95XZWqIiKAiIgIiICIiAiIgIiICIiAiIgIiIC87LXOY9rCGvLHBriMgOI4HHrXoiCt0rSI6vwC8nmo4yXuLstjGG+rgV6N0isHc4IIA/du3iJm7dnOc4689qnIpqNXK272g2tLileJHA7sMDsEgPDH72Bw7cO4+096nIiqboiIiCIiAiIgIiICIiAiIgIiICIiAiIg//9k='/>\n"
      ]
    },
    {
      "cell_type": "code",
      "execution_count": null,
      "metadata": {
        "id": "BKihXBaBr_Kc"
      },
      "outputs": [],
      "source": [
        "# Step 1: Load and Standardize the data (use of numpy only allowed)\n",
        "standardized_data = None  # Do not use sklearn (Data - Data Mean)/ Data's Standard Deviation\n",
        "standardized_data[:5]  # Display the first few rows of standardized data"
      ]
    },
    {
      "cell_type": "markdown",
      "metadata": {
        "id": "Fybn40Syr_Kd"
      },
      "source": [
        "### Step 3: Calculate the Covariance Matrix\n",
        "The covariance matrix helps us understand how the features are related to each other. It is a key component in PCA."
      ]
    },
    {
      "cell_type": "code",
      "execution_count": null,
      "metadata": {
        "id": "RbklA9tqr_Ke"
      },
      "outputs": [],
      "source": [
        "# Step 3: Calculate the Covariance Matrix\n",
        "cov_matrix = None  # Calculate covariance matrix\n",
        "cov_matrix"
      ]
    },
    {
      "cell_type": "markdown",
      "metadata": {
        "id": "dWzqXsR0r_Ke"
      },
      "source": [
        "### Step 4: Perform Eigendecomposition\n",
        "Eigendecomposition of the covariance matrix will give us the eigenvalues and eigenvectors, which are essential for PCA.\n",
        "Fill in the code to compute the eigenvalues and eigenvectors of the covariance matrix."
      ]
    },
    {
      "cell_type": "code",
      "execution_count": null,
      "metadata": {
        "id": "8Tm0rzdAr_Ke"
      },
      "outputs": [],
      "source": [
        "# Step 4: Perform Eigendecomposition\n",
        "eigenvalues, eigenvectors = None  # Perform eigendecomposition\n",
        "eigenvalues, eigenvectors"
      ]
    },
    {
      "cell_type": "markdown",
      "metadata": {
        "id": "bp6o_4sTr_Kf"
      },
      "source": [
        "### Step 5: Sort Principal Components\n",
        "Sort the eigenvectors based on their corresponding eigenvalues in descending order. The higher the eigenvalue, the more important the eigenvector.\n",
        "Complete the code to sort the eigenvectors and print the sorted components.\n",
        "\n",
        "<a url ='https://www.youtube.com/watch?v=vaF-1xUEXsA&t=17s'>How Is Explained Variance Used In PCA?'<a/>"
      ]
    },
    {
      "cell_type": "code",
      "execution_count": null,
      "metadata": {
        "id": "jpfoRz-Xr_Kf"
      },
      "outputs": [],
      "source": [
        "# Step 5: Sort Principal Components\n",
        "sorted_indices = None  # Sort eigenvalues in descending order\n",
        "sorted_eigenvectors = None  # Sort eigenvectors accordingly\n",
        "sorted_eigenvectors"
      ]
    },
    {
      "cell_type": "markdown",
      "metadata": {
        "id": "uxbmuO27r_Kg"
      },
      "source": [
        "### Step 6: Project Data onto Principal Components\n",
        "Now that we’ve selected the number of components, we will project the original data onto the chosen principal components.\n",
        "Fill in the code to perform the projection."
      ]
    },
    {
      "cell_type": "code",
      "execution_count": null,
      "metadata": {
        "id": "ubjIMAtWr_Kg"
      },
      "outputs": [],
      "source": [
        "# Step 6: Project Data onto Principal Components\n",
        "num_components = None  # Decide on the number of principal components to keep\n",
        "reduced_data = None  # Project data onto the principal components\n",
        "reduced_data[:5]"
      ]
    },
    {
      "cell_type": "markdown",
      "metadata": {
        "id": "XVq-b6vtr_Kg"
      },
      "source": [
        "### Step 7: Output the Reduced Data\n",
        "Finally, display the reduced data obtained by projecting the original dataset onto the selected principal components."
      ]
    },
    {
      "cell_type": "code",
      "execution_count": null,
      "metadata": {
        "id": "5D0uzRyPr_Kg"
      },
      "outputs": [],
      "source": [
        "# Step 7: Output the Reduced Data\n",
        "print(f'Reduced Data Shape: {reduced_data.shape}')  # Display reduced data shape\n",
        "reduced_data[:5]  # Display the first few rows of reduced data"
      ]
    },
    {
      "cell_type": "markdown",
      "metadata": {
        "id": "S1f8ROm5r_Kg"
      },
      "source": [
        "### Step 8: Visualize Before and After PCA\n",
        "Now, let's plot the original data and the data after PCA to compare the reduction in dimensions visually."
      ]
    },
    {
      "cell_type": "code",
      "execution_count": null,
      "metadata": {
        "id": "WwuppWV-r_Kg"
      },
      "outputs": [],
      "source": [
        "# Step 8: Visualize Before and After PCA\n",
        "\n",
        "\n",
        "# Plot original data (first two features for simplicity)\n",
        "\n",
        "\n",
        "# Plot reduced data after PCA\n"
      ]
    }
  ],
  "metadata": {
    "kernelspec": {
      "display_name": "Python 3",
      "name": "python3"
    },
    "language_info": {
      "name": "python",
      "version": "3.8.8"
    },
    "colab": {
      "provenance": [],
      "include_colab_link": true
    }
  },
  "nbformat": 4,
  "nbformat_minor": 0
}